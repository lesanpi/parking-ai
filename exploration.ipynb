{
 "cells": [
  {
   "cell_type": "code",
   "execution_count": 2,
   "metadata": {
    "collapsed": true
   },
   "outputs": [
    {
     "data": {
      "text/plain": "('1.10.0', 'cuda')"
     },
     "execution_count": 2,
     "metadata": {},
     "output_type": "execute_result"
    }
   ],
   "source": [
    "import torch\n",
    "import torchvision\n",
    "import os\n",
    "import pandas as pd\n",
    "from skimage import io\n",
    "from fastprogress import master_bar, progress_bar\n",
    "import numpy as np\n",
    "from sklearn.metrics import roc_auc_score\n",
    "from skimage.transform import resize\n",
    "import sys\n",
    "from albumentations import Compose, Flip, ToGray, HorizontalFlip, RandomContrast, Equalize\n",
    "\n",
    "DEVICE = \"cuda\" if torch.cuda.is_available() else \"cpu\"\n",
    "torch.__version__, DEVICE"
   ]
  },
  {
   "cell_type": "code",
   "execution_count": 2,
   "outputs": [
    {
     "data": {
      "text/plain": "['all.txt', 'PATCHES', 'train.csv', 'validation.csv']"
     },
     "execution_count": 2,
     "metadata": {},
     "output_type": "execute_result"
    }
   ],
   "source": [
    "PATH = 'data'\n",
    "os.listdir(PATH)"
   ],
   "metadata": {
    "collapsed": false,
    "pycharm": {
     "name": "#%%\n"
    }
   }
  },
  {
   "cell_type": "code",
   "execution_count": 3,
   "outputs": [
    {
     "data": {
      "text/plain": "                                                   0  1\n0  data/PATCHES/RAINY/2016-02-12/camera7/R_2016-0...  1",
      "text/html": "<div>\n<style scoped>\n    .dataframe tbody tr th:only-of-type {\n        vertical-align: middle;\n    }\n\n    .dataframe tbody tr th {\n        vertical-align: top;\n    }\n\n    .dataframe thead th {\n        text-align: right;\n    }\n</style>\n<table border=\"1\" class=\"dataframe\">\n  <thead>\n    <tr style=\"text-align: right;\">\n      <th></th>\n      <th>0</th>\n      <th>1</th>\n    </tr>\n  </thead>\n  <tbody>\n    <tr>\n      <th>0</th>\n      <td>data/PATCHES/RAINY/2016-02-12/camera7/R_2016-0...</td>\n      <td>1</td>\n    </tr>\n  </tbody>\n</table>\n</div>"
     },
     "execution_count": 3,
     "metadata": {},
     "output_type": "execute_result"
    }
   ],
   "source": [
    "data = pd.read_csv(f'{PATH}/all.txt', sep=\" \", header=None)\n",
    "data[0] = \"data/PATCHES/\" + data[0]\n",
    "data[:1].head()"
   ],
   "metadata": {
    "collapsed": false,
    "pycharm": {
     "name": "#%%\n"
    }
   }
  },
  {
   "cell_type": "code",
   "execution_count": 7,
   "outputs": [
    {
     "data": {
      "text/plain": "(18120, 19932)"
     },
     "execution_count": 7,
     "metadata": {},
     "output_type": "execute_result"
    }
   ],
   "source": [
    "total_n, train_n, test_n = len(data), int(len(data) * 0.5 / 4) , int(len(data) * 0.55 / 4)\n",
    "train_n, test_n"
   ],
   "metadata": {
    "collapsed": false,
    "pycharm": {
     "name": "#%%\n"
    }
   }
  },
  {
   "cell_type": "code",
   "execution_count": 19,
   "outputs": [],
   "source": [
    "data[:train_n].to_csv(f'{PATH}/train.csv', index=False)\n",
    "data[train_n:test_n].to_csv(f'{PATH}/validation.csv', index=False)\n",
    "data[test_n:test_n + 10000].to_csv(f'{PATH}/test.csv', index=False)"
   ],
   "metadata": {
    "collapsed": false,
    "pycharm": {
     "name": "#%%\n"
    }
   }
  },
  {
   "cell_type": "code",
   "execution_count": 20,
   "outputs": [
    {
     "data": {
      "text/plain": "((18120, 2), (1812, 2), (10000, 2))"
     },
     "execution_count": 20,
     "metadata": {},
     "output_type": "execute_result"
    }
   ],
   "source": [
    "train = pd.read_csv(f'{PATH}/train.csv')\n",
    "val = pd.read_csv(f'{PATH}/validation.csv')\n",
    "test = pd.read_csv(f'{PATH}/test.csv')\n",
    "\n",
    "train.shape, val.shape, test.shape"
   ],
   "metadata": {
    "collapsed": false,
    "pycharm": {
     "name": "#%%\n"
    }
   }
  },
  {
   "cell_type": "code",
   "execution_count": 14,
   "outputs": [
    {
     "data": {
      "text/plain": "       Unnamed: 0                                                  0  1\n0               0  data/PATCHES/RAINY/2016-02-12/camera7/R_2016-0...  1\n1               1  data/PATCHES/SUNNY/2016-01-15/camera7/S_2016-0...  1\n2               2  data/PATCHES/OVERCAST/2015-12-03/camera1/O_201...  1\n3               3  data/PATCHES/OVERCAST/2015-12-19/camera1/O_201...  0\n4               4  data/PATCHES/SUNNY/2016-01-18/camera6/S_2016-0...  1\n...           ...                                                ... ..\n18115       18115  data/PATCHES/RAINY/2015-11-21/camera7/R_2015-1...  0\n18116       18116  data/PATCHES/OVERCAST/2015-11-25/camera9/O_201...  1\n18117       18117  data/PATCHES/RAINY/2016-02-12/camera6/R_2016-0...  0\n18118       18118  data/PATCHES/SUNNY/2015-11-12/camera1/S_2015-1...  0\n18119       18119  data/PATCHES/OVERCAST/2015-12-18/camera8/O_201...  1\n\n[18120 rows x 3 columns]",
      "text/html": "<div>\n<style scoped>\n    .dataframe tbody tr th:only-of-type {\n        vertical-align: middle;\n    }\n\n    .dataframe tbody tr th {\n        vertical-align: top;\n    }\n\n    .dataframe thead th {\n        text-align: right;\n    }\n</style>\n<table border=\"1\" class=\"dataframe\">\n  <thead>\n    <tr style=\"text-align: right;\">\n      <th></th>\n      <th>Unnamed: 0</th>\n      <th>0</th>\n      <th>1</th>\n    </tr>\n  </thead>\n  <tbody>\n    <tr>\n      <th>0</th>\n      <td>0</td>\n      <td>data/PATCHES/RAINY/2016-02-12/camera7/R_2016-0...</td>\n      <td>1</td>\n    </tr>\n    <tr>\n      <th>1</th>\n      <td>1</td>\n      <td>data/PATCHES/SUNNY/2016-01-15/camera7/S_2016-0...</td>\n      <td>1</td>\n    </tr>\n    <tr>\n      <th>2</th>\n      <td>2</td>\n      <td>data/PATCHES/OVERCAST/2015-12-03/camera1/O_201...</td>\n      <td>1</td>\n    </tr>\n    <tr>\n      <th>3</th>\n      <td>3</td>\n      <td>data/PATCHES/OVERCAST/2015-12-19/camera1/O_201...</td>\n      <td>0</td>\n    </tr>\n    <tr>\n      <th>4</th>\n      <td>4</td>\n      <td>data/PATCHES/SUNNY/2016-01-18/camera6/S_2016-0...</td>\n      <td>1</td>\n    </tr>\n    <tr>\n      <th>...</th>\n      <td>...</td>\n      <td>...</td>\n      <td>...</td>\n    </tr>\n    <tr>\n      <th>18115</th>\n      <td>18115</td>\n      <td>data/PATCHES/RAINY/2015-11-21/camera7/R_2015-1...</td>\n      <td>0</td>\n    </tr>\n    <tr>\n      <th>18116</th>\n      <td>18116</td>\n      <td>data/PATCHES/OVERCAST/2015-11-25/camera9/O_201...</td>\n      <td>1</td>\n    </tr>\n    <tr>\n      <th>18117</th>\n      <td>18117</td>\n      <td>data/PATCHES/RAINY/2016-02-12/camera6/R_2016-0...</td>\n      <td>0</td>\n    </tr>\n    <tr>\n      <th>18118</th>\n      <td>18118</td>\n      <td>data/PATCHES/SUNNY/2015-11-12/camera1/S_2015-1...</td>\n      <td>0</td>\n    </tr>\n    <tr>\n      <th>18119</th>\n      <td>18119</td>\n      <td>data/PATCHES/OVERCAST/2015-12-18/camera8/O_201...</td>\n      <td>1</td>\n    </tr>\n  </tbody>\n</table>\n<p>18120 rows × 3 columns</p>\n</div>"
     },
     "execution_count": 14,
     "metadata": {},
     "output_type": "execute_result"
    }
   ],
   "source": [
    "train"
   ],
   "metadata": {
    "collapsed": false,
    "pycharm": {
     "name": "#%%\n"
    }
   }
  }
 ],
 "metadata": {
  "kernelspec": {
   "display_name": "Python 3",
   "language": "python",
   "name": "python3"
  },
  "language_info": {
   "codemirror_mode": {
    "name": "ipython",
    "version": 2
   },
   "file_extension": ".py",
   "mimetype": "text/x-python",
   "name": "python",
   "nbconvert_exporter": "python",
   "pygments_lexer": "ipython2",
   "version": "2.7.6"
  }
 },
 "nbformat": 4,
 "nbformat_minor": 0
}